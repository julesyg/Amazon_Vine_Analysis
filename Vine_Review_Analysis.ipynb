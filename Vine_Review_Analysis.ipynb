{
  "nbformat": 4,
  "nbformat_minor": 0,
  "metadata": {
    "colab": {
      "provenance": [],
      "authorship_tag": "ABX9TyPixs50B2JrhO3vi7wukS7R",
      "include_colab_link": true
    },
    "kernelspec": {
      "name": "python3",
      "display_name": "Python 3"
    },
    "language_info": {
      "name": "python"
    }
  },
  "cells": [
    {
      "cell_type": "markdown",
      "metadata": {
        "id": "view-in-github",
        "colab_type": "text"
      },
      "source": [
        "<a href=\"https://colab.research.google.com/github/julesyg/Amazon_Vine_Analysis/blob/main/Vine_Review_Analysis.ipynb\" target=\"_parent\"><img src=\"https://colab.research.google.com/assets/colab-badge.svg\" alt=\"Open In Colab\"/></a>"
      ]
    },
    {
      "cell_type": "code",
      "execution_count": 2,
      "metadata": {
        "colab": {
          "base_uri": "https://localhost:8080/"
        },
        "id": "e397o4prABF2",
        "outputId": "bda578f3-75a7-4d28-dd8d-727a1ff5b2b1"
      },
      "outputs": [
        {
          "output_type": "stream",
          "name": "stdout",
          "text": [
            "Looking in indexes: https://pypi.org/simple, https://us-python.pkg.dev/colab-wheels/public/simple/\n",
            "Collecting pyspark\n",
            "  Downloading pyspark-3.3.1.tar.gz (281.4 MB)\n",
            "\u001b[K     |████████████████████████████████| 281.4 MB 45 kB/s \n",
            "\u001b[?25hCollecting py4j==0.10.9.5\n",
            "  Downloading py4j-0.10.9.5-py2.py3-none-any.whl (199 kB)\n",
            "\u001b[K     |████████████████████████████████| 199 kB 55.1 MB/s \n",
            "\u001b[?25hBuilding wheels for collected packages: pyspark\n",
            "  Building wheel for pyspark (setup.py) ... \u001b[?25l\u001b[?25hdone\n",
            "  Created wheel for pyspark: filename=pyspark-3.3.1-py2.py3-none-any.whl size=281845512 sha256=60eb277d6f28d7781bd3ab685141cd05bbf3402991e3c3464f84b39e26902844\n",
            "  Stored in directory: /root/.cache/pip/wheels/43/dc/11/ec201cd671da62fa9c5cc77078235e40722170ceba231d7598\n",
            "Successfully built pyspark\n",
            "Installing collected packages: py4j, pyspark\n",
            "Successfully installed py4j-0.10.9.5 pyspark-3.3.1\n"
          ]
        }
      ],
      "source": [
        "pip install pyspark"
      ]
    },
    {
      "cell_type": "code",
      "source": [
        "from pyspark.sql import SparkSession\n",
        "spark = SparkSession.builder.appName(\"M17-Amazon-Challenge\").config(\"spark.driver.extraClassPath\",\"/content/postgresql-42.2.16.jar\").getOrCreate()"
      ],
      "metadata": {
        "id": "ZdqUlxuYB9jm"
      },
      "execution_count": 6,
      "outputs": []
    },
    {
      "cell_type": "code",
      "source": [
        "from pyspark import SparkFiles\n",
        "url = \"https://s3.amazonaws.com/amazon-reviews-pds/tsv/amazon_reviews_us_Jewelry_v1_00.tsv.gz\"\n",
        "spark.sparkContext.addFile(url)\n",
        "df = spark.read.option(\"encoding\", \"UTF-8\").csv(SparkFiles.get(\"\"), sep=\"\\t\", header=True, inferSchema=True)\n",
        "df.show()"
      ],
      "metadata": {
        "colab": {
          "base_uri": "https://localhost:8080/"
        },
        "id": "RSGuVrBlAy9k",
        "outputId": "fe44e63e-ad21-448f-d15a-08900a60f748"
      },
      "execution_count": 7,
      "outputs": [
        {
          "output_type": "stream",
          "name": "stdout",
          "text": [
            "+-----------+-----------+--------------+----------+--------------+--------------------+----------------+-----------+-------------+-----------+----+-----------------+--------------------+--------------------+-------------------+\n",
            "|marketplace|customer_id|     review_id|product_id|product_parent|       product_title|product_category|star_rating|helpful_votes|total_votes|vine|verified_purchase|     review_headline|         review_body|        review_date|\n",
            "+-----------+-----------+--------------+----------+--------------+--------------------+----------------+-----------+-------------+-----------+----+-----------------+--------------------+--------------------+-------------------+\n",
            "|         US|   50423057|R135Q3VZ4DQN5N|B00JWXFDMG|     657335467|Everbling Purple ...|         Jewelry|          5|            0|          0|   N|                Y|           Beauties!|so beautiful even...|2015-08-31 00:00:00|\n",
            "|         US|   11262325|R2N0QQ6R4T7YRY|B00W5T1H9W|      26030170|925 Sterling Silv...|         Jewelry|          5|            0|          0|   N|                N|      Great product.|Great product.. I...|2015-08-31 00:00:00|\n",
            "|         US|   27541121|R3N5JE5Y4T6W5M|B00M2L6KFY|     697845240|Sterling Silver C...|         Jewelry|          5|            0|          0|   N|                Y|Exactly as pictur...|Exactly as pictur...|2015-08-31 00:00:00|\n",
            "|         US|    5350721|R2I150CX5IVY9Q|B0006SW2WU|     569859289|Surgical Stainles...|         Jewelry|          5|            0|          0|   N|                Y|          Five Stars|Love it. Fits gre...|2015-08-31 00:00:00|\n",
            "|         US|   24484424|R1RM9ICOOA9MQ3|B009YPDW70|     332947422|Sterling Silver F...|         Jewelry|          5|            0|          0|   N|                Y|... a Mother's Da...|Got this as a Mot...|2015-08-31 00:00:00|\n",
            "|         US|     457767|R2J2KMDL10UMSH|B00QGA8XZM|     424804582|CHOOSE YOUR COLOR...|         Jewelry|          5|            0|          0|   N|                Y|          Five Stars|I Love It Make Me...|2015-08-31 00:00:00|\n",
            "|         US|   31009358|R3R9ZUFA4TB4FQ|B00L0N0E8E|     589441783|Metal Factory 925...|         Jewelry|          5|            0|          0|   N|                Y|          Five Stars|True to size, unique|2015-08-31 00:00:00|\n",
            "|         US|    7034628|R3UQ8VAQN7R6WL|B00DMWQKWA|     517428445|niceEshop(TM)Clas...|         Jewelry|          5|            0|          0|   N|                Y|          Five Stars|This necklace is ...|2015-08-31 00:00:00|\n",
            "|         US|   34608636|R1FXZ69C01JNQM|B00THLHAGA|     320313750|Genuine Natural B...|         Jewelry|          5|            0|          0|   N|                Y|          Five Stars|        just perfect|2015-08-31 00:00:00|\n",
            "|         US|   44972687| RY36LB4OW0FFS|B00UXSEOHY|     589365488|MBOX Expandable A...|         Jewelry|          5|            0|          0|   N|                Y|          Five Stars|           Love it !|2015-08-31 00:00:00|\n",
            "|         US|   16684508| R6PKS54PC6ZY2|B00XGRYGVS|     217045013|Set of 3 Nose Rin...|         Jewelry|          1|            4|          4|   N|                Y|I had high hopes ...|They didn't even ...|2015-08-31 00:00:00|\n",
            "|         US|   23493178|R1LYSAH0IECVWB|B00AJ2VU8A|     972853757|3-row White A Gra...|         Jewelry|          5|            0|          0|   N|                Y|This is a real ni...|This is a real ni...|2015-08-31 00:00:00|\n",
            "|         US|     108294|R1UN0IZI3XQ3E2|B00LE5Y100|     979375701|KONOV Mens Stainl...|         Jewelry|          5|            2|          3|   N|                Y|             AMAZING|This is a very co...|2015-08-31 00:00:00|\n",
            "|         US|   25810742| RIKDXD8QGL99S|B013E0AOH6|     619592796|TEMEGO Jewelry Me...|         Jewelry|          5|            1|          1|   N|                Y|          Five Stars|Great quality for...|2015-08-31 00:00:00|\n",
            "|         US|   12037665| RUZCQTXZVGUFH|B00XAWUP96|     783863439|Royal Blue/White ...|         Jewelry|          4|            1|          1|   N|                Y|A Little Smaller ...|I like the bracel...|2015-08-31 00:00:00|\n",
            "|         US|   51793466|R35CD4IHO3RP9H|B00WD82F1O|     655270378|10-11mm Baroque F...|         Jewelry|          5|            1|          1|   N|                Y|Pretty and Versatile|This is pretty an...|2015-08-31 00:00:00|\n",
            "|         US|     127508|R13YD66XC9221U|B00JP4XCSO|     592155747|Sankuwen® Fashion...|         Jewelry|          1|            0|          0|   N|                N|Don't get this li...|Don't get this li...|2015-08-31 00:00:00|\n",
            "|         US|   38430946| RHWG4JRVDSEYY|B00PZSM384|     622179716|zjskin6688 store ...|         Jewelry|          3|            1|          1|   N|                Y|         Three Stars|Not what I expect...|2015-08-31 00:00:00|\n",
            "|         US|   33684654|R3SPIKMJ5IWHX8|B00VLMW18K|      36759824|Scheppend Polymer...|         Jewelry|          4|            0|          0|   N|                Y|          Four Stars|Bought these for ...|2015-08-31 00:00:00|\n",
            "|         US|    5068631| RS19ACU7KWWNE|B00U5LDBB4|     575109200|Horizontal Sidewa...|         Jewelry|          5|            1|          1|   N|                Y|          Five Stars|Pretty, and very ...|2015-08-31 00:00:00|\n",
            "+-----------+-----------+--------------+----------+--------------+--------------------+----------------+-----------+-------------+-----------+----+-----------------+--------------------+--------------------+-------------------+\n",
            "only showing top 20 rows\n",
            "\n"
          ]
        }
      ]
    },
    {
      "cell_type": "code",
      "source": [
        "from pyspark.sql.functions import to_date"
      ],
      "metadata": {
        "id": "koP0E8MuCBnt"
      },
      "execution_count": 8,
      "outputs": []
    },
    {
      "cell_type": "code",
      "source": [
        "vine_df = df.select([\"star_rating\", \"helpful_votes\", \"total_votes\", \"vine\", \"verified_purchase\"])\n",
        "vine_df.show()"
      ],
      "metadata": {
        "colab": {
          "base_uri": "https://localhost:8080/"
        },
        "id": "K56ae91eAzHC",
        "outputId": "9b4145b4-a399-41e5-8237-f2172b629aca"
      },
      "execution_count": 16,
      "outputs": [
        {
          "output_type": "stream",
          "name": "stdout",
          "text": [
            "+-----------+-------------+-----------+----+-----------------+\n",
            "|star_rating|helpful_votes|total_votes|vine|verified_purchase|\n",
            "+-----------+-------------+-----------+----+-----------------+\n",
            "|          5|            0|          0|   N|                Y|\n",
            "|          5|            0|          0|   N|                N|\n",
            "|          5|            0|          0|   N|                Y|\n",
            "|          5|            0|          0|   N|                Y|\n",
            "|          5|            0|          0|   N|                Y|\n",
            "|          5|            0|          0|   N|                Y|\n",
            "|          5|            0|          0|   N|                Y|\n",
            "|          5|            0|          0|   N|                Y|\n",
            "|          5|            0|          0|   N|                Y|\n",
            "|          5|            0|          0|   N|                Y|\n",
            "|          1|            4|          4|   N|                Y|\n",
            "|          5|            0|          0|   N|                Y|\n",
            "|          5|            2|          3|   N|                Y|\n",
            "|          5|            1|          1|   N|                Y|\n",
            "|          4|            1|          1|   N|                Y|\n",
            "|          5|            1|          1|   N|                Y|\n",
            "|          1|            0|          0|   N|                N|\n",
            "|          3|            1|          1|   N|                Y|\n",
            "|          4|            0|          0|   N|                Y|\n",
            "|          5|            1|          1|   N|                Y|\n",
            "+-----------+-------------+-----------+----+-----------------+\n",
            "only showing top 20 rows\n",
            "\n"
          ]
        }
      ]
    },
    {
      "cell_type": "code",
      "source": [
        "# Filter the data and create a new DataFrame or table to retrieve all the rows where the total_votes \n",
        "# count is equal to or greater than 20 to pick reviews that are more likely to be helpful \n",
        "# and to avoid having division by zero errors later on.\n",
        "\n",
        "total_votes_over_20 = vine_df.filter(\"total_votes>=20\")\n",
        "total_votes_over_20.show()\n"
      ],
      "metadata": {
        "colab": {
          "base_uri": "https://localhost:8080/"
        },
        "id": "JWXD-quzCjcz",
        "outputId": "bc61ae01-50c7-4f4d-9d1e-d06bd1c725a1"
      },
      "execution_count": 22,
      "outputs": [
        {
          "output_type": "stream",
          "name": "stdout",
          "text": [
            "+-----------+-------------+-----------+----+-----------------+\n",
            "|star_rating|helpful_votes|total_votes|vine|verified_purchase|\n",
            "+-----------+-------------+-----------+----+-----------------+\n",
            "|          5|           23|         23|   N|                Y|\n",
            "|          1|           29|         29|   N|                Y|\n",
            "|          1|           22|         24|   N|                Y|\n",
            "|          5|           24|         24|   N|                Y|\n",
            "|          1|           22|         24|   N|                Y|\n",
            "|          5|           22|         24|   N|                N|\n",
            "|          5|          123|        125|   N|                Y|\n",
            "|          5|           20|         20|   N|                Y|\n",
            "|          1|           27|         28|   N|                Y|\n",
            "|          5|           51|         52|   N|                Y|\n",
            "|          1|           35|         35|   N|                Y|\n",
            "|          1|           24|         24|   N|                Y|\n",
            "|          5|           26|         27|   N|                N|\n",
            "|          3|           33|         39|   N|                Y|\n",
            "|          5|           21|         22|   N|                Y|\n",
            "|          5|           22|         22|   N|                Y|\n",
            "|          5|           29|         30|   N|                Y|\n",
            "|          2|           37|         38|   N|                Y|\n",
            "|          5|           23|         24|   N|                Y|\n",
            "|          5|           33|         34|   N|                Y|\n",
            "+-----------+-------------+-----------+----+-----------------+\n",
            "only showing top 20 rows\n",
            "\n"
          ]
        }
      ]
    },
    {
      "cell_type": "code",
      "source": [
        "# Filter the new DataFrame or table created in Step 1 and create a new DataFrame or table\n",
        "# to retrieve all the rows where the number of helpful_votes divided by total_votes is equal to or greater than 50%.\n",
        "\n",
        "votes_over_50percent = total_votes_over_20.filter(total_votes_over_20[\"helpful_votes\"] / total_votes_over_20[\"total_votes\"] >= .50)\n",
        "votes_over_50percent.show()"
      ],
      "metadata": {
        "colab": {
          "base_uri": "https://localhost:8080/"
        },
        "id": "EMWYce2yCjlR",
        "outputId": "0ea02709-d69f-4a69-c3bb-0ac63c54b7eb"
      },
      "execution_count": 23,
      "outputs": [
        {
          "output_type": "stream",
          "name": "stdout",
          "text": [
            "+-----------+-------------+-----------+----+-----------------+\n",
            "|star_rating|helpful_votes|total_votes|vine|verified_purchase|\n",
            "+-----------+-------------+-----------+----+-----------------+\n",
            "|          5|           23|         23|   N|                Y|\n",
            "|          1|           29|         29|   N|                Y|\n",
            "|          1|           22|         24|   N|                Y|\n",
            "|          5|           24|         24|   N|                Y|\n",
            "|          1|           22|         24|   N|                Y|\n",
            "|          5|           22|         24|   N|                N|\n",
            "|          5|          123|        125|   N|                Y|\n",
            "|          5|           20|         20|   N|                Y|\n",
            "|          1|           27|         28|   N|                Y|\n",
            "|          5|           51|         52|   N|                Y|\n",
            "|          1|           35|         35|   N|                Y|\n",
            "|          1|           24|         24|   N|                Y|\n",
            "|          5|           26|         27|   N|                N|\n",
            "|          3|           33|         39|   N|                Y|\n",
            "|          5|           21|         22|   N|                Y|\n",
            "|          5|           22|         22|   N|                Y|\n",
            "|          5|           29|         30|   N|                Y|\n",
            "|          2|           37|         38|   N|                Y|\n",
            "|          5|           23|         24|   N|                Y|\n",
            "|          5|           33|         34|   N|                Y|\n",
            "+-----------+-------------+-----------+----+-----------------+\n",
            "only showing top 20 rows\n",
            "\n"
          ]
        }
      ]
    },
    {
      "cell_type": "code",
      "source": [
        "# Filter the DataFrame or table created in Step 2, and create a new DataFrame or \n",
        "# table that retrieves all the rows where a review was written \n",
        "# as part of the Vine program (paid), vine == 'Y'.\n",
        "\n",
        "paid_reviews = votes_over_50percent.filter(votes_over_50percent[\"vine\"] == \"Y\")\n",
        "paid_reviews.describe().show()"
      ],
      "metadata": {
        "colab": {
          "base_uri": "https://localhost:8080/"
        },
        "id": "BSVjtAg5CjpB",
        "outputId": "35ac9894-cc6b-4883-efc2-64acf222e468"
      },
      "execution_count": 24,
      "outputs": [
        {
          "output_type": "stream",
          "name": "stdout",
          "text": [
            "+-------+------------------+------------------+------------------+----+-----------------+\n",
            "|summary|       star_rating|     helpful_votes|       total_votes|vine|verified_purchase|\n",
            "+-------+------------------+------------------+------------------+----+-----------------+\n",
            "|  count|                21|                21|                21|  21|               21|\n",
            "|   mean| 4.380952380952381|              36.0|38.095238095238095|null|             null|\n",
            "| stddev|0.8047478161629565|22.492220877450052| 22.84273355337483|null|             null|\n",
            "|    min|                 2|                18|                20|   Y|                N|\n",
            "|    max|                 5|                95|                96|   Y|                N|\n",
            "+-------+------------------+------------------+------------------+----+-----------------+\n",
            "\n"
          ]
        }
      ]
    },
    {
      "cell_type": "code",
      "source": [
        "# Repeat Step 3, but this time retrieve all the rows where the review \n",
        "# was not part of the Vine program (unpaid), vine == 'N'.\n",
        "\n",
        "unpaid_reviews = votes_over_50percent.filter(votes_over_50percent[\"vine\"] == \"N\")\n",
        "unpaid_reviews.describe().show()"
      ],
      "metadata": {
        "colab": {
          "base_uri": "https://localhost:8080/"
        },
        "id": "ZO6pJLorC6Og",
        "outputId": "4a2689e5-03fd-4cef-848d-892bd070b721"
      },
      "execution_count": 25,
      "outputs": [
        {
          "output_type": "stream",
          "name": "stdout",
          "text": [
            "+-------+------------------+------------------+------------------+----+-----------------+\n",
            "|summary|       star_rating|     helpful_votes|       total_votes|vine|verified_purchase|\n",
            "+-------+------------------+------------------+------------------+----+-----------------+\n",
            "|  count|              7689|              7689|              7689|7689|             7689|\n",
            "|   mean|3.8940044219014176| 36.68305371309663| 39.38574587072441|null|             null|\n",
            "| stddev|1.5291400195050926|35.628912881666686|37.463200601267104|null|             null|\n",
            "|    min|                 1|                10|                20|   N|                N|\n",
            "|    max|                 5|               835|               855|   N|                Y|\n",
            "+-------+------------------+------------------+------------------+----+-----------------+\n",
            "\n"
          ]
        }
      ]
    },
    {
      "cell_type": "code",
      "source": [
        "# Determine the total number of reviews, the number of 5-star reviews, \n",
        "# and the percentage of 5-star reviews for the two types of review (paid vs unpaid).\n",
        "\n",
        "five_star_paid = paid_reviews[paid_reviews[\"star_rating\"] == 5].count()\n",
        "total_paid = paid_reviews.count()\n",
        "percent_paid_five_star = five_star_paid /total_paid *100\n",
        "\n",
        "print(f\"\"\"\n",
        "Paid Stats\n",
        "Total: {total_paid}\n",
        "Five Stars: {five_star_paid}\n",
        "Percentage of Five Stars: {percent_paid_five_star:.2f}%\"\"\")\n",
        "\n"
      ],
      "metadata": {
        "colab": {
          "base_uri": "https://localhost:8080/"
        },
        "id": "OdGXCFOzDMIF",
        "outputId": "8c6bf038-7c23-4bf3-fa9d-5647c22c7ca8"
      },
      "execution_count": 29,
      "outputs": [
        {
          "output_type": "stream",
          "name": "stdout",
          "text": [
            "\n",
            "Paid Stats\n",
            "Total: 21\n",
            "Five Stars: 11\n",
            "Percentage of Five Stars: 52.38%\n"
          ]
        }
      ]
    },
    {
      "cell_type": "code",
      "source": [
        "five_star_unpaid = unpaid_reviews[unpaid_reviews[\"star_rating\"] == 5].count()\n",
        "total_unpaid = unpaid_reviews.count()\n",
        "percent_unpaid_five_star = five_star_unpaid /total_unpaid *100\n",
        "\n",
        "print(f\"\"\"\n",
        "Unpaid Stats\n",
        "Total: {total_unpaid}\n",
        "Five Stars: {five_star_unpaid}\n",
        "Percentage of Five Stars: {percent_unpaid_five_star:.2f}%\"\"\")"
      ],
      "metadata": {
        "colab": {
          "base_uri": "https://localhost:8080/"
        },
        "id": "Q3or_ubEcdkA",
        "outputId": "c3b36bfa-0bd2-4c67-a47f-7888e24e1f38"
      },
      "execution_count": 30,
      "outputs": [
        {
          "output_type": "stream",
          "name": "stdout",
          "text": [
            "\n",
            "Unpaid Stats\n",
            "Total: 7689\n",
            "Five Stars: 4444\n",
            "Percentage of Five Stars: 57.80%\n"
          ]
        }
      ]
    }
  ]
}